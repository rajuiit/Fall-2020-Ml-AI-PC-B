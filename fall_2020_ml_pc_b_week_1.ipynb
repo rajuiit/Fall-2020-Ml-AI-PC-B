{
  "nbformat": 4,
  "nbformat_minor": 0,
  "metadata": {
    "colab": {
      "name": "fall-2020-ml-pc-b-week-1.ipynb",
      "provenance": [],
      "authorship_tag": "ABX9TyMnYxD9Ym5uhr8oukQWeBAk",
      "include_colab_link": true
    },
    "kernelspec": {
      "name": "python3",
      "display_name": "Python 3"
    }
  },
  "cells": [
    {
      "cell_type": "markdown",
      "metadata": {
        "id": "view-in-github",
        "colab_type": "text"
      },
      "source": [
        "<a href=\"https://colab.research.google.com/github/rajuiit/Fall-2020-Ml-AI-PC-B/blob/main/fall_2020_ml_pc_b_week_1.ipynb\" target=\"_parent\"><img src=\"https://colab.research.google.com/assets/colab-badge.svg\" alt=\"Open In Colab\"/></a>"
      ]
    },
    {
      "cell_type": "markdown",
      "metadata": {
        "id": "nCT3p6itQ01Y"
      },
      "source": [
        "# **Basic Python**"
      ]
    },
    {
      "cell_type": "code",
      "metadata": {
        "id": "X2MuFxZNP3o0",
        "outputId": "b30e24b2-ce98-4031-f203-7f7dd8670775",
        "colab": {
          "base_uri": "https://localhost:8080/",
          "height": 34
        }
      },
      "source": [
        "print(\"Hello World\")\n",
        "x=10;"
      ],
      "execution_count": 4,
      "outputs": [
        {
          "output_type": "stream",
          "text": [
            "Hello World\n"
          ],
          "name": "stdout"
        }
      ]
    },
    {
      "cell_type": "code",
      "metadata": {
        "id": "4Bsr29f3Qinq",
        "outputId": "b02f143e-36d4-4885-8e48-53dffac36f75",
        "colab": {
          "base_uri": "https://localhost:8080/",
          "height": 34
        }
      },
      "source": [
        "print(x)"
      ],
      "execution_count": 5,
      "outputs": [
        {
          "output_type": "stream",
          "text": [
            "10\n"
          ],
          "name": "stdout"
        }
      ]
    },
    {
      "cell_type": "markdown",
      "metadata": {
        "id": "94Ck5W1VRA1T"
      },
      "source": [
        "#Statement"
      ]
    },
    {
      "cell_type": "code",
      "metadata": {
        "id": "rbzOorGmQ_sB",
        "outputId": "0fba54ea-125d-4b8b-b9ad-92b9e23efbc8",
        "colab": {
          "base_uri": "https://localhost:8080/",
          "height": 34
        }
      },
      "source": [
        "if x>5:\n",
        "  print(x)\n"
      ],
      "execution_count": 6,
      "outputs": [
        {
          "output_type": "stream",
          "text": [
            "10\n"
          ],
          "name": "stdout"
        }
      ]
    }
  ]
}